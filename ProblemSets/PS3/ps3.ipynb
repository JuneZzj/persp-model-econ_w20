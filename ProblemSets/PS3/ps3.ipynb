{
 "cells": [
  {
   "cell_type": "code",
   "execution_count": 2,
   "metadata": {},
   "outputs": [],
   "source": [
    "import numpy as np\n",
    "import matplotlib.pyplot as plt\n",
    "from scipy.stats import norm"
   ]
  },
  {
   "cell_type": "markdown",
   "metadata": {},
   "source": [
    "#### Excersice 9"
   ]
  },
  {
   "cell_type": "code",
   "execution_count": 3,
   "metadata": {},
   "outputs": [
    {
     "name": "stdout",
     "output_type": "stream",
     "text": [
      "[[0.01]\n",
      " [0.02]\n",
      " [0.03]\n",
      " [0.04]\n",
      " [0.05]\n",
      " [0.06]\n",
      " [0.07]\n",
      " [0.08]\n",
      " [0.09]\n",
      " [0.1 ]\n",
      " [0.11]\n",
      " [0.12]\n",
      " [0.13]\n",
      " [0.14]\n",
      " [0.15]\n",
      " [0.16]\n",
      " [0.17]\n",
      " [0.18]\n",
      " [0.19]\n",
      " [0.2 ]\n",
      " [0.21]\n",
      " [0.22]\n",
      " [0.23]\n",
      " [0.24]\n",
      " [0.25]\n",
      " [0.26]\n",
      " [0.27]\n",
      " [0.28]\n",
      " [0.29]\n",
      " [0.3 ]\n",
      " [0.31]\n",
      " [0.32]\n",
      " [0.33]\n",
      " [0.34]\n",
      " [0.35]\n",
      " [0.36]\n",
      " [0.37]\n",
      " [0.38]\n",
      " [0.39]\n",
      " [0.4 ]\n",
      " [0.41]\n",
      " [0.42]\n",
      " [0.43]\n",
      " [0.44]\n",
      " [0.45]\n",
      " [0.46]\n",
      " [0.47]\n",
      " [0.48]\n",
      " [0.49]\n",
      " [0.5 ]\n",
      " [0.51]\n",
      " [0.52]\n",
      " [0.53]\n",
      " [0.54]\n",
      " [0.55]\n",
      " [0.56]\n",
      " [0.57]\n",
      " [0.58]\n",
      " [0.59]\n",
      " [0.6 ]\n",
      " [0.61]\n",
      " [0.62]\n",
      " [0.63]\n",
      " [0.64]\n",
      " [0.65]\n",
      " [0.66]\n",
      " [0.67]\n",
      " [0.68]\n",
      " [0.69]\n",
      " [0.7 ]\n",
      " [0.71]\n",
      " [0.72]\n",
      " [0.73]\n",
      " [0.74]\n",
      " [0.75]\n",
      " [0.76]\n",
      " [0.77]\n",
      " [0.78]\n",
      " [0.79]\n",
      " [0.8 ]\n",
      " [0.81]\n",
      " [0.82]\n",
      " [0.83]\n",
      " [0.84]\n",
      " [0.85]\n",
      " [0.86]\n",
      " [0.87]\n",
      " [0.88]\n",
      " [0.89]\n",
      " [0.9 ]\n",
      " [0.91]\n",
      " [0.92]\n",
      " [0.93]\n",
      " [0.94]\n",
      " [0.95]\n",
      " [0.96]\n",
      " [0.97]\n",
      " [0.98]\n",
      " [0.99]\n",
      " [1.  ]]\n"
     ]
    }
   ],
   "source": [
    "w_size = 100\n",
    "w_min, w_max = 0.01, 1\n",
    "w_vec = np.linspace(w_min, w_max, w_size).reshape((w_size, 1))\n",
    "print(w_vec)"
   ]
  },
  {
   "cell_type": "markdown",
   "metadata": {},
   "source": [
    "#### Exercise 10"
   ]
  },
  {
   "cell_type": "code",
   "execution_count": 4,
   "metadata": {},
   "outputs": [
    {
     "name": "stdout",
     "output_type": "stream",
     "text": [
      "The resulting policy function is [[0.01]\n",
      " [0.01]\n",
      " [0.01]\n",
      " [0.01]\n",
      " [0.01]\n",
      " [0.01]\n",
      " [0.01]\n",
      " [0.01]\n",
      " [0.01]\n",
      " [0.01]\n",
      " [0.01]\n",
      " [0.01]\n",
      " [0.01]\n",
      " [0.01]\n",
      " [0.01]\n",
      " [0.01]\n",
      " [0.01]\n",
      " [0.01]\n",
      " [0.01]\n",
      " [0.01]\n",
      " [0.01]\n",
      " [0.01]\n",
      " [0.01]\n",
      " [0.01]\n",
      " [0.01]\n",
      " [0.01]\n",
      " [0.01]\n",
      " [0.01]\n",
      " [0.01]\n",
      " [0.01]\n",
      " [0.01]\n",
      " [0.01]\n",
      " [0.01]\n",
      " [0.01]\n",
      " [0.01]\n",
      " [0.01]\n",
      " [0.01]\n",
      " [0.01]\n",
      " [0.01]\n",
      " [0.01]\n",
      " [0.01]\n",
      " [0.01]\n",
      " [0.01]\n",
      " [0.01]\n",
      " [0.01]\n",
      " [0.01]\n",
      " [0.01]\n",
      " [0.01]\n",
      " [0.01]\n",
      " [0.01]\n",
      " [0.01]\n",
      " [0.01]\n",
      " [0.01]\n",
      " [0.01]\n",
      " [0.01]\n",
      " [0.01]\n",
      " [0.01]\n",
      " [0.01]\n",
      " [0.01]\n",
      " [0.01]\n",
      " [0.01]\n",
      " [0.01]\n",
      " [0.01]\n",
      " [0.01]\n",
      " [0.01]\n",
      " [0.01]\n",
      " [0.01]\n",
      " [0.01]\n",
      " [0.01]\n",
      " [0.01]\n",
      " [0.01]\n",
      " [0.01]\n",
      " [0.01]\n",
      " [0.01]\n",
      " [0.01]\n",
      " [0.01]\n",
      " [0.01]\n",
      " [0.01]\n",
      " [0.01]\n",
      " [0.01]\n",
      " [0.01]\n",
      " [0.01]\n",
      " [0.01]\n",
      " [0.01]\n",
      " [0.01]\n",
      " [0.01]\n",
      " [0.01]\n",
      " [0.01]\n",
      " [0.01]\n",
      " [0.01]\n",
      " [0.01]\n",
      " [0.01]\n",
      " [0.01]\n",
      " [0.01]\n",
      " [0.01]\n",
      " [0.01]\n",
      " [0.01]\n",
      " [0.01]\n",
      " [0.01]\n",
      " [0.01]].\n",
      "The value function is [-2.30258509e+01 -4.60517019e+00 -3.91202301e+00 -3.50655790e+00\n",
      " -3.21887582e+00 -2.99573227e+00 -2.81341072e+00 -2.65926004e+00\n",
      " -2.52572864e+00 -2.40794561e+00 -2.30258509e+00 -2.20727491e+00\n",
      " -2.12026354e+00 -2.04022083e+00 -1.96611286e+00 -1.89711998e+00\n",
      " -1.83258146e+00 -1.77195684e+00 -1.71479843e+00 -1.66073121e+00\n",
      " -1.60943791e+00 -1.56064775e+00 -1.51412773e+00 -1.46967597e+00\n",
      " -1.42711636e+00 -1.38629436e+00 -1.34707365e+00 -1.30933332e+00\n",
      " -1.27296568e+00 -1.23787436e+00 -1.20397280e+00 -1.17118298e+00\n",
      " -1.13943428e+00 -1.10866262e+00 -1.07880966e+00 -1.04982212e+00\n",
      " -1.02165125e+00 -9.94252273e-01 -9.67584026e-01 -9.41608540e-01\n",
      " -9.16290732e-01 -8.91598119e-01 -8.67500568e-01 -8.43970070e-01\n",
      " -8.20980552e-01 -7.98507696e-01 -7.76528789e-01 -7.55022584e-01\n",
      " -7.33969175e-01 -7.13349888e-01 -6.93147181e-01 -6.73344553e-01\n",
      " -6.53926467e-01 -6.34878272e-01 -6.16186139e-01 -5.97837001e-01\n",
      " -5.79818495e-01 -5.62118918e-01 -5.44727175e-01 -5.27632742e-01\n",
      " -5.10825624e-01 -4.94296322e-01 -4.78035801e-01 -4.62035460e-01\n",
      " -4.46287103e-01 -4.30782916e-01 -4.15515444e-01 -4.00477567e-01\n",
      " -3.85662481e-01 -3.71063681e-01 -3.56674944e-01 -3.42490309e-01\n",
      " -3.28504067e-01 -3.14710745e-01 -3.01105093e-01 -2.87682072e-01\n",
      " -2.74436846e-01 -2.61364764e-01 -2.48461359e-01 -2.35722334e-01\n",
      " -2.23143551e-01 -2.10721031e-01 -1.98450939e-01 -1.86329578e-01\n",
      " -1.74353387e-01 -1.62518929e-01 -1.50822890e-01 -1.39262067e-01\n",
      " -1.27833372e-01 -1.16533816e-01 -1.05360516e-01 -9.43106795e-02\n",
      " -8.33816089e-02 -7.25706928e-02 -6.18754037e-02 -5.12932944e-02\n",
      " -4.08219945e-02 -3.04592075e-02 -2.02027073e-02 -1.00503359e-02].\n"
     ]
    }
   ],
   "source": [
    "def u(c):\n",
    "    return np.log(c)\n",
    "\n",
    "\n",
    "beta = 0.9\n",
    "wprime_vec = w_vec.reshape((1, w_size))\n",
    "w_mat = np.tile(w_vec, (1, w_size))\n",
    "wprime_mat = np.tile(wprime_vec, (w_size, 1))\n",
    "c_mat = w_mat - wprime_mat\n",
    "c_leq0 = c_mat <= 0\n",
    "c_mat[c_leq0] = 1e-10\n",
    "u_mat = u(c_mat)\n",
    "\n",
    "vprime_Tp1 = np.zeros(w_size).reshape((w_size, )) \n",
    "V_T = (u(c_mat) + beta * vprime_Tp1).max(axis = 1)\n",
    "max_id = np.argmax(u(c_mat) + beta * vprime_Tp1, axis=1)\n",
    "wprime_max = w_vec[max_id]\n",
    "print(f\"The resulting policy function is {wprime_max}.\")\n",
    "print(f\"The value function is {V_T}.\")"
   ]
  },
  {
   "cell_type": "code",
   "execution_count": 5,
   "metadata": {},
   "outputs": [
    {
     "data": {
      "text/plain": [
       "[<matplotlib.lines.Line2D at 0x1c99adf2948>]"
      ]
     },
     "execution_count": 5,
     "metadata": {},
     "output_type": "execute_result"
    },
    {
     "data": {
      "image/png": "[encoded data removed]",
      "text/plain": [
       "<Figure size 432x288 with 1 Axes>"
      ]
     },
     "metadata": {
      "needs_background": "light"
     },
     "output_type": "display_data"
    }
   ],
   "source": [
    "plt.plot(w_vec.reshape((w_size,))[1:], V_T[1:])"
   ]
  },
  {
   "cell_type": "code",
   "execution_count": 7,
   "metadata": {},
   "outputs": [
    {
     "data": {
      "text/plain": [
       "[<matplotlib.lines.Line2D at 0x1c99aea5888>]"
      ]
     },
     "execution_count": 7,
     "metadata": {},
     "output_type": "execute_result"
    },
    {
     "data": {
      "image/png": "[encoded data removed]",
      "text/plain": [
       "<Figure size 432x288 with 1 Axes>"
      ]
     },
     "metadata": {
      "needs_background": "light"
     },
     "output_type": "display_data"
    }
   ],
   "source": [
    "plt.plot(w_vec.reshape((w_size,))[1:], wprime_max[1:])"
   ]
  },
  {
   "cell_type": "markdown",
   "metadata": {},
   "source": [
    "#### Exercise 11"
   ]
  },
  {
   "cell_type": "code",
   "execution_count": 6,
   "metadata": {},
   "outputs": [
    {
     "name": "stdout",
     "output_type": "stream",
     "text": [
      "The distance between the policy function and the value function is 709.1159217075678.\n"
     ]
    }
   ],
   "source": [
    "dist_t = np.sum((V_T - vprime_Tp1) ** 2)\n",
    "print(f\"The distance between the policy function and the value function is {dist_t}.\")"
   ]
  },
  {
   "cell_type": "markdown",
   "metadata": {},
   "source": [
    "#### Exercise 12"
   ]
  },
  {
   "cell_type": "code",
   "execution_count": 9,
   "metadata": {},
   "outputs": [
    {
     "name": "stdout",
     "output_type": "stream",
     "text": [
      "The value function is [-9.00000002e+09 -2.53284360e+01 -8.74982335e+00 -8.05667617e+00\n",
      " -7.43284371e+00 -7.02737860e+00 -6.66246000e+00 -6.37477793e+00\n",
      " -6.11586407e+00 -5.89272052e+00 -5.69189132e+00 -5.50956976e+00\n",
      " -5.34548036e+00 -5.19132968e+00 -5.05259407e+00 -4.91906268e+00\n",
      " -4.79888442e+00 -4.68110139e+00 -4.57509666e+00 -4.46973614e+00\n",
      " -4.37442596e+00 -4.27960150e+00 -4.19259012e+00 -4.10681096e+00\n",
      " -4.02676825e+00 -3.94845801e+00 -3.87435004e+00 -3.80231160e+00\n",
      " -3.73331873e+00 -3.66662156e+00 -3.60208303e+00 -3.53998945e+00\n",
      " -3.47936483e+00 -3.42128016e+00 -3.36412175e+00 -3.30955959e+00\n",
      " -3.25549236e+00 -3.20404979e+00 -3.15275650e+00 -3.10396633e+00\n",
      " -3.05530583e+00 -3.00878582e+00 -2.96262185e+00 -2.91817009e+00\n",
      " -2.87425894e+00 -2.83169933e+00 -2.78983132e+00 -2.74900932e+00\n",
      " -2.70900273e+00 -2.66978202e+00 -2.63147837e+00 -2.59373804e+00\n",
      " -2.55699824e+00 -2.52063060e+00 -2.48533196e+00 -2.45024064e+00\n",
      " -2.41627434e+00 -2.38237279e+00 -2.34958297e+00 -2.31685209e+00\n",
      " -2.28510339e+00 -2.25352120e+00 -2.22274954e+00 -2.19223815e+00\n",
      " -2.16238519e+00 -2.13287434e+00 -2.10388681e+00 -2.07531298e+00\n",
      " -2.04714210e+00 -2.01944761e+00 -1.99204864e+00 -1.96518097e+00\n",
      " -1.93851272e+00 -1.91242394e+00 -1.88644845e+00 -1.86109466e+00\n",
      " -1.83577685e+00 -1.81108424e+00 -1.78642517e+00 -1.76232761e+00\n",
      " -1.73832619e+00 -1.71479569e+00 -1.69141776e+00 -1.66842824e+00\n",
      " -1.64564221e+00 -1.62316935e+00 -1.60094600e+00 -1.57896710e+00\n",
      " -1.55727930e+00 -1.53577310e+00 -1.51459565e+00 -1.49354224e+00\n",
      " -1.47285167e+00 -1.45223238e+00 -1.43200681e+00 -1.41180411e+00\n",
      " -1.39200148e+00 -1.37222046e+00 -1.35280238e+00 -1.33344679e+00]\n",
      "The distance of T-1 value function is 8.1e+19, compared to the T value function 709.1159217075678.\n"
     ]
    }
   ],
   "source": [
    "vprime_T = np.tile(V_T.reshape((1, w_size)), (w_size, 1))\n",
    "vprime_T[c_leq0] = -1e+10\n",
    "V_Tm1 = (u(c_mat) + beta * vprime_T).max(axis = 1)\n",
    "print(f\"The value function is {V_Tm1}\")\n",
    "dist_tm1 = np.sum((V_Tm1 - V_T) ** 2)\n",
    "print(f\"The distance of T-1 value function is {dist_tm1}, compared to the T value function {dist_t}.\") "
   ]
  },
  {
   "cell_type": "code",
   "execution_count": 10,
   "metadata": {},
   "outputs": [
    {
     "data": {
      "text/plain": [
       "[<matplotlib.lines.Line2D at 0x1c99aefd5c8>]"
      ]
     },
     "execution_count": 10,
     "metadata": {},
     "output_type": "execute_result"
    },
    {
     "data": {
      "image/png": "[encoded data removed]",
      "text/plain": [
       "<Figure size 432x288 with 1 Axes>"
      ]
     },
     "metadata": {
      "needs_background": "light"
     },
     "output_type": "display_data"
    }
   ],
   "source": [
    "plt.plot(w_vec.reshape((w_size,)), V_Tm1)"
   ]
  },
  {
   "cell_type": "code",
   "execution_count": 12,
   "metadata": {},
   "outputs": [
    {
     "name": "stdout",
     "output_type": "stream",
     "text": [
      "The policy function is [0.01 0.01 0.02 0.02 0.03 0.03 0.04 0.04 0.05 0.05 0.06 0.06 0.07 0.07\n",
      " 0.08 0.08 0.09 0.09 0.1  0.1  0.1  0.11 0.11 0.12 0.12 0.13 0.13 0.14\n",
      " 0.14 0.15 0.15 0.16 0.16 0.17 0.17 0.18 0.18 0.19 0.19 0.19 0.2  0.2\n",
      " 0.21 0.21 0.22 0.22 0.23 0.23 0.24 0.24 0.25 0.25 0.26 0.26 0.27 0.27\n",
      " 0.28 0.28 0.28 0.29 0.29 0.3  0.3  0.31 0.31 0.32 0.32 0.33 0.33 0.34\n",
      " 0.34 0.35 0.35 0.36 0.36 0.37 0.37 0.37 0.38 0.38 0.39 0.39 0.4  0.4\n",
      " 0.41 0.41 0.42 0.42 0.43 0.43 0.44 0.44 0.45 0.45 0.46 0.46 0.46 0.47\n",
      " 0.47 0.48].\n"
     ]
    },
    {
     "data": {
      "text/plain": [
       "[<matplotlib.lines.Line2D at 0x1c99afd3c88>]"
      ]
     },
     "execution_count": 12,
     "metadata": {},
     "output_type": "execute_result"
    },
    {
     "data": {
      "image/png": "[encoded data removed]",
      "text/plain": [
       "<Figure size 432x288 with 1 Axes>"
      ]
     },
     "metadata": {
      "needs_background": "light"
     },
     "output_type": "display_data"
    }
   ],
   "source": [
    "max_id_T = np.argmax((u(c_mat) + beta * vprime_T), axis = 1)\n",
    "wprime_vec_T = w_vec.reshape((w_size,))[max_id_T]\n",
    "print(f\"The policy function is {wprime_vec_T}.\")\n",
    "plt.plot(w_vec, wprime_vec_T)"
   ]
  },
  {
   "cell_type": "markdown",
   "metadata": {},
   "source": [
    "#### Exercise 13"
   ]
  },
  {
   "cell_type": "code",
   "execution_count": 14,
   "metadata": {},
   "outputs": [
    {
     "name": "stdout",
     "output_type": "stream",
     "text": [
      "The value function at T - 2 is [-9.00000002e+09 -8.10000003e+09 -2.74007626e+01 -1.24800112e+01\n",
      " -1.17868640e+01 -1.11630316e+01 -1.06015823e+01 -1.01961172e+01\n",
      " -9.83119864e+00 -9.50277190e+00 -9.21508983e+00 -8.95617596e+00\n",
      " -8.72315349e+00 -8.50000993e+00 -8.29918074e+00 -8.11685918e+00\n",
      " -7.93611290e+00 -7.77202350e+00 -7.61787282e+00 -7.47019236e+00\n",
      " -7.33145675e+00 -7.19792536e+00 -7.07306331e+00 -6.95288505e+00\n",
      " -6.83510202e+00 -6.72694159e+00 -6.62093686e+00 -6.51557634e+00\n",
      " -6.42017208e+00 -6.32486190e+00 -6.23003744e+00 -6.14302606e+00\n",
      " -6.05724690e+00 -5.97190488e+00 -5.89186218e+00 -5.81355194e+00\n",
      " -5.73635069e+00 -5.66224272e+00 -5.59020428e+00 -5.51972507e+00\n",
      " -5.45073219e+00 -5.38403502e+00 -5.31920043e+00 -5.25466191e+00\n",
      " -5.19256832e+00 -5.13194370e+00 -5.07191624e+00 -5.01383157e+00\n",
      " -4.95667316e+00 -4.90078893e+00 -4.84622677e+00 -4.79215955e+00\n",
      " -4.73988335e+00 -4.68844078e+00 -4.63714748e+00 -4.58804154e+00\n",
      " -4.53925138e+00 -4.49059088e+00 -4.44407086e+00 -4.39777255e+00\n",
      " -4.35160858e+00 -4.30715682e+00 -4.26324567e+00 -4.21945122e+00\n",
      " -4.17689161e+00 -4.13502359e+00 -4.09347602e+00 -4.05265403e+00\n",
      " -4.01264744e+00 -3.97312741e+00 -3.93390670e+00 -3.89560304e+00\n",
      " -3.85786272e+00 -3.82018150e+00 -3.78344171e+00 -3.74707406e+00\n",
      " -3.71106814e+00 -3.67576949e+00 -3.64067817e+00 -3.60620489e+00\n",
      " -3.57223859e+00 -3.53833704e+00 -3.50527122e+00 -3.47248140e+00\n",
      " -3.43975052e+00 -3.40798174e+00 -3.37623305e+00 -3.34465086e+00\n",
      " -3.31387920e+00 -3.28330953e+00 -3.25279814e+00 -3.22294517e+00\n",
      " -3.19343433e+00 -3.16397654e+00 -3.13498901e+00 -3.10641518e+00\n",
      " -3.07799121e+00 -3.04982033e+00 -3.02212584e+00 -2.99466558e+00].\n",
      "The distance of T-2 value function is 6.561e+19, compared to the T value function 709.1159217075678 and T-1 value function distance 8.1e+19.\n"
     ]
    }
   ],
   "source": [
    "vprime_Tm1 = np.tile(V_Tm1.reshape((1, w_size)), (w_size, 1))\n",
    "vprime_Tm1[c_leq0] = -1e+10\n",
    "V_Tm2 = (u(c_mat) + beta * vprime_Tm1).max(axis = 1)\n",
    "print(f\"The value function at T - 2 is {V_Tm2}.\")\n",
    "dist_tm2 = np.sum((V_Tm2 - V_Tm1.reshape(w_size,)) ** 2)\n",
    "print(f\"The distance of T-2 value function is {dist_tm2}, compared to the T value function {dist_t} and T-1 value function distance {dist_tm1}.\") "
   ]
  },
  {
   "cell_type": "code",
   "execution_count": 15,
   "metadata": {},
   "outputs": [
    {
     "data": {
      "text/plain": [
       "[<matplotlib.lines.Line2D at 0x1c99b0220c8>]"
      ]
     },
     "execution_count": 15,
     "metadata": {},
     "output_type": "execute_result"
    },
    {
     "data": {
      "image/png": "[encoded data removed]",
      "text/plain": [
       "<Figure size 432x288 with 1 Axes>"
      ]
     },
     "metadata": {
      "needs_background": "light"
     },
     "output_type": "display_data"
    }
   ],
   "source": [
    "plt.plot(w_vec.reshape((w_size,)), V_Tm2)"
   ]
  },
  {
   "cell_type": "code",
   "execution_count": 16,
   "metadata": {},
   "outputs": [
    {
     "name": "stdout",
     "output_type": "stream",
     "text": [
      "[0.01 0.01 0.02 0.03 0.03 0.04 0.05 0.05 0.06 0.07 0.07 0.08 0.09 0.09\n",
      " 0.1  0.1  0.11 0.12 0.12 0.13 0.14 0.14 0.15 0.16 0.16 0.17 0.18 0.18\n",
      " 0.19 0.19 0.2  0.2  0.21 0.22 0.22 0.23 0.24 0.24 0.25 0.26 0.26 0.27\n",
      " 0.28 0.28 0.29 0.29 0.3  0.31 0.31 0.32 0.33 0.33 0.34 0.35 0.35 0.36\n",
      " 0.36 0.37 0.37 0.38 0.39 0.39 0.4  0.41 0.41 0.42 0.43 0.43 0.44 0.45\n",
      " 0.45 0.46 0.46 0.47 0.48 0.48 0.49 0.5  0.5  0.51 0.52 0.52 0.53 0.53\n",
      " 0.54 0.55 0.55 0.56 0.56 0.57 0.58 0.58 0.59 0.6  0.6  0.61 0.62 0.62\n",
      " 0.63 0.64]\n"
     ]
    },
    {
     "data": {
      "text/plain": [
       "[<matplotlib.lines.Line2D at 0x1c99c06e0c8>]"
      ]
     },
     "execution_count": 16,
     "metadata": {},
     "output_type": "execute_result"
    },
    {
     "data": {
      "image/png": "[encoded data removed]",
      "text/plain": [
       "<Figure size 432x288 with 1 Axes>"
      ]
     },
     "metadata": {
      "needs_background": "light"
     },
     "output_type": "display_data"
    }
   ],
   "source": [
    "max_id_Tm1 = np.argmax((u(c_mat) + beta * vprime_Tm1), axis = 1)\n",
    "wprime_vec_Tm1 = w_vec.reshape((w_size,))[max_id_Tm1]\n",
    "print(wprime_vec_Tm1)\n",
    "plt.plot(w_vec, wprime_vec_Tm1)"
   ]
  },
  {
   "cell_type": "markdown",
   "metadata": {},
   "source": [
    "#### Exercise 14"
   ]
  },
  {
   "cell_type": "code",
   "execution_count": 19,
   "metadata": {},
   "outputs": [
    {
     "name": "stdout",
     "output_type": "stream",
     "text": [
      "The total interation time is 91\n"
     ]
    },
    {
     "data": {
      "image/png": "[encoded data removed]",
      "text/plain": [
       "<Figure size 432x288 with 1 Axes>"
      ]
     },
     "metadata": {
      "needs_background": "light"
     },
     "output_type": "display_data"
    }
   ],
   "source": [
    "e_max = 1e-9\n",
    "max_times = 200\n",
    "dist = dist_tm2\n",
    "def loop_func(e_max, max_times, dist):\n",
    "    w_size = 100\n",
    "    w_min, w_max = 0.01, 1\n",
    "    w_vec = np.linspace(w_min, w_max, w_size).reshape((w_size, 1))\n",
    "    iter_times = 1\n",
    "    wprime_vec = w_vec.reshape((1, w_size))\n",
    "    w_mat = np.tile(w_vec, (1, w_size))\n",
    "    wprime_mat = np.tile(wprime_vec, (w_size, 1))\n",
    "    c_mat = w_mat - wprime_mat\n",
    "    c_mat[c_leq0] = 1e-10\n",
    "    while dist > e_max and iter_times <= max_times:\n",
    "        if iter_times == 1:\n",
    "            V_T = u(c_mat).max(axis = 1)\n",
    "            max_id = np.argmax(u(c_mat), axis = 1)\n",
    "            w = w_vec.reshape((w_size,))[max_id]\n",
    "            iter_times += 1\n",
    "\n",
    "        else:\n",
    "            Vprime_T = np.tile(V_T.reshape((1, w_size)), (w_size, 1))\n",
    "            Vprime_T[c_leq0] = -1e+4\n",
    "            V_Tm1 = (u(c_mat) + beta * Vprime_T).max(axis = 1)\n",
    "            max_id = np.argmax((u(c_mat) + beta * Vprime_T), axis = 1)\n",
    "\n",
    "            dist = np.sum((V_Tm1 - V_T) ** 2)\n",
    "            \n",
    "            V_T = V_Tm1.copy()\n",
    "            w = w_vec.reshape((w_size,))[max_id]\n",
    "            iter_times += 1\n",
    "    return iter_times, w, V_T, dist\n",
    "\n",
    "iter_times, w, v_t, d= loop_func(e_max, max_times, dist)\n",
    "plt.plot(w, v_t)\n",
    "print(f\"The total interation time is {iter_times}\")"
   ]
  },
  {
   "cell_type": "code",
   "execution_count": 18,
   "metadata": {},
   "outputs": [
    {
     "data": {
      "text/plain": [
       "[<matplotlib.lines.Line2D at 0x1c99c13bd48>]"
      ]
     },
     "execution_count": 18,
     "metadata": {},
     "output_type": "execute_result"
    },
    {
     "data": {
      "image/png": "[encoded data removed]",
      "text/plain": [
       "<Figure size 432x288 with 1 Axes>"
      ]
     },
     "metadata": {
      "needs_background": "light"
     },
     "output_type": "display_data"
    }
   ],
   "source": [
    "plt.plot(w_vec.reshape((w_size, )), w)"
   ]
  },
  {
   "cell_type": "markdown",
   "metadata": {},
   "source": [
    "#### Exercise 16"
   ]
  },
  {
   "cell_type": "code",
   "execution_count": 20,
   "metadata": {},
   "outputs": [
    {
     "name": "stdout",
     "output_type": "stream",
     "text": [
      "[0.0088637  0.10798193 0.48394145 0.79788456 0.48394145 0.10798193\n",
      " 0.0088637 ]\n"
     ]
    },
    {
     "data": {
      "text/plain": [
       "[<matplotlib.lines.Line2D at 0x1c99c20b948>]"
      ]
     },
     "execution_count": 20,
     "metadata": {},
     "output_type": "execute_result"
    },
    {
     "data": {
      "image/png": "[encoded data removed]",
      "text/plain": [
       "<Figure size 432x288 with 1 Axes>"
      ]
     },
     "metadata": {
      "needs_background": "light"
     },
     "output_type": "display_data"
    }
   ],
   "source": [
    "std = 0.25 ** 0.5\n",
    "mu = 4 * std\n",
    "M = 7\n",
    "err = np.linspace(mu - 3 * std, mu + 3 * std, 7)\n",
    "prob = norm.pdf(err, loc = mu, scale = std)\n",
    "print(prob)\n",
    "plt.plot(err, prob)"
   ]
  },
  {
   "cell_type": "markdown",
   "metadata": {},
   "source": [
    "#### Exercise 17"
   ]
  },
  {
   "cell_type": "code",
   "execution_count": 23,
   "metadata": {},
   "outputs": [
    {
     "name": "stdout",
     "output_type": "stream",
     "text": [
      "The policy function at T is [0.01 0.01 0.01 0.01 0.01 0.01 0.01 0.01 0.01 0.01 0.01 0.01 0.01 0.01\n",
      " 0.01 0.01 0.01 0.01 0.01 0.01 0.01 0.01 0.01 0.01 0.01 0.01 0.01 0.01\n",
      " 0.01 0.01 0.01 0.01 0.01 0.01 0.01 0.01 0.01 0.01 0.01 0.01 0.01 0.01\n",
      " 0.01 0.01 0.01 0.01 0.01 0.01 0.01 0.01 0.01 0.01 0.01 0.01 0.01 0.01\n",
      " 0.01 0.01 0.01 0.01 0.01 0.01 0.01 0.01 0.01 0.01 0.01 0.01 0.01 0.01\n",
      " 0.01 0.01 0.01 0.01 0.01 0.01 0.01 0.01 0.01 0.01 0.01 0.01 0.01 0.01\n",
      " 0.01 0.01 0.01 0.01 0.01 0.01 0.01 0.01 0.01 0.01 0.01 0.01 0.01 0.01\n",
      " 0.01 0.01].\n"
     ]
    },
    {
     "data": {
      "image/png": "[encoded data removed]",
      "text/plain": [
       "<Figure size 432x288 with 1 Axes>"
      ]
     },
     "metadata": {
      "needs_background": "light"
     },
     "output_type": "display_data"
    }
   ],
   "source": [
    "N = 100\n",
    "exp_V_Tp1_2 = np.zeros((N ,M)) @ prob\n",
    "exp_V_Tp1_2 = np.tile(exp_V_Tp1_2.reshape((1,N)), (N,1))\n",
    "exp_V_Tp1_2[c_leq0] = -1e+4\n",
    "exp_V_Tp1_3 = np.array([exp_V_Tp1_2 for i in prob])\n",
    "\n",
    "\n",
    "e_u_mat = np.array([u_mat * i for i in err])\n",
    "exp_V_T = (e_u_mat + beta * exp_V_Tp1_3)\n",
    "v_t_mat = np.zeros((N, M)) \n",
    "w_t = np.zeros((N, M))\n",
    "\n",
    "for i in range(N):\n",
    "    v_t_mat[i] = exp_V_T[:, i, :].max(axis=1)\n",
    "    max_id = np.argmax(exp_V_T[:, i, :], axis=1)\n",
    "    w_t[i] = w_vec.reshape((N,))[max_id]\n",
    "\n",
    "plt.plot(w_vec.reshape((N,)), np.average(w_t, axis = 1))\n",
    "print(f\"The policy function at T is {np.average(w_t, axis = 1)}.\")"
   ]
  },
  {
   "cell_type": "code",
   "execution_count": 25,
   "metadata": {},
   "outputs": [
    {
     "name": "stdout",
     "output_type": "stream",
     "text": [
      "The value function at T is [-9.04605170e+03 -9.21034037e+00 -7.82404601e+00 -7.01311579e+00\n",
      " -6.43775165e+00 -5.99146455e+00 -5.62682143e+00 -5.31852007e+00\n",
      " -5.05145729e+00 -4.81589122e+00 -4.60517019e+00 -4.41454983e+00\n",
      " -4.24052707e+00 -4.08044166e+00 -3.93222571e+00 -3.79423997e+00\n",
      " -3.66516293e+00 -3.54391368e+00 -3.42959686e+00 -3.32146241e+00\n",
      " -3.21887582e+00 -3.12129550e+00 -3.02825547e+00 -2.93935194e+00\n",
      " -2.85423271e+00 -2.77258872e+00 -2.69414730e+00 -2.61866664e+00\n",
      " -2.54593135e+00 -2.47574871e+00 -2.40794561e+00 -2.34236596e+00\n",
      " -2.27886857e+00 -2.21732525e+00 -2.15761932e+00 -2.09964425e+00\n",
      " -2.04330250e+00 -1.98850455e+00 -1.93516805e+00 -1.88321708e+00\n",
      " -1.83258146e+00 -1.78319624e+00 -1.73500114e+00 -1.68794014e+00\n",
      " -1.64196110e+00 -1.59701539e+00 -1.55305758e+00 -1.51004517e+00\n",
      " -1.46793835e+00 -1.42669978e+00 -1.38629436e+00 -1.34668911e+00\n",
      " -1.30785293e+00 -1.26975654e+00 -1.23237228e+00 -1.19567400e+00\n",
      " -1.15963699e+00 -1.12423784e+00 -1.08945435e+00 -1.05526548e+00\n",
      " -1.02165125e+00 -9.88592644e-01 -9.56071602e-01 -9.24070919e-01\n",
      " -8.92574205e-01 -8.61565832e-01 -8.31030888e-01 -8.00955133e-01\n",
      " -7.71324962e-01 -7.42127363e-01 -7.13349888e-01 -6.84980618e-01\n",
      " -6.57008134e-01 -6.29421490e-01 -6.02210186e-01 -5.75364145e-01\n",
      " -5.48873691e-01 -5.22729528e-01 -4.96922719e-01 -4.71444667e-01\n",
      " -4.46287103e-01 -4.21442063e-01 -3.96901877e-01 -3.72659156e-01\n",
      " -3.48706774e-01 -3.25037859e-01 -3.01645779e-01 -2.78524135e-01\n",
      " -2.55666743e-01 -2.33067633e-01 -2.10721031e-01 -1.88621359e-01\n",
      " -1.66763218e-01 -1.45141386e-01 -1.23750807e-01 -1.02586589e-01\n",
      " -8.16439890e-02 -6.09184150e-02 -4.04054146e-02 -2.01006717e-02].\n"
     ]
    },
    {
     "data": {
      "image/png": "[encoded data removed]",
      "text/plain": [
       "<Figure size 432x288 with 1 Axes>"
      ]
     },
     "metadata": {
      "needs_background": "light"
     },
     "output_type": "display_data"
    }
   ],
   "source": [
    "plt.plot(w_vec.reshape((N,)), np.average(v_t_mat, axis = 1))\n",
    "print(f\"The value function at T is {np.average(v_t_mat, axis = 1)}.\")"
   ]
  },
  {
   "cell_type": "markdown",
   "metadata": {},
   "source": [
    "#### Exercise 18"
   ]
  },
  {
   "cell_type": "code",
   "execution_count": 27,
   "metadata": {},
   "outputs": [
    {
     "data": {
      "text/plain": [
       "572827333.4916047"
      ]
     },
     "execution_count": 27,
     "metadata": {},
     "output_type": "execute_result"
    }
   ],
   "source": [
    "dist_3 = np.sum(np.sum((v_t_mat - np.zeros((N ,M))) ** 2))\n",
    "dist_3"
   ]
  },
  {
   "cell_type": "markdown",
   "metadata": {},
   "source": [
    "#### Exercise 19"
   ]
  },
  {
   "cell_type": "code",
   "execution_count": 26,
   "metadata": {},
   "outputs": [
    {
     "name": "stdout",
     "output_type": "stream",
     "text": [
      "The policy function at T - 1 is [0.01       0.02       0.02       0.03       0.03571429 0.04285714\n",
      " 0.05       0.05571429 0.06285714 0.07       0.07571429 0.08428571\n",
      " 0.08857143 0.09571429 0.10285714 0.11142857 0.11571429 0.12285714\n",
      " 0.13142857 0.13571429 0.14428571 0.14714286 0.15571429 0.16428571\n",
      " 0.16857143 0.17857143 0.18142857 0.19       0.19714286 0.20285714\n",
      " 0.20714286 0.21571429 0.22285714 0.22857143 0.23714286 0.24285714\n",
      " 0.24857143 0.25571429 0.26142857 0.27       0.27571429 0.28142857\n",
      " 0.29       0.29571429 0.30142857 0.31       0.31428571 0.32285714\n",
      " 0.32857143 0.33571429 0.34142857 0.35       0.35571429 0.36142857\n",
      " 0.36714286 0.37428571 0.38285714 0.39       0.39428571 0.40285714\n",
      " 0.40857143 0.41571429 0.42285714 0.42571429 0.43428571 0.44142857\n",
      " 0.44857143 0.45571429 0.46142857 0.47       0.47285714 0.48285714\n",
      " 0.48714286 0.49571429 0.50285714 0.50857143 0.51571429 0.52\n",
      " 0.52857143 0.53571429 0.54142857 0.54714286 0.55571429 0.56142857\n",
      " 0.57       0.57571429 0.58285714 0.58571429 0.59571429 0.60285714\n",
      " 0.60857143 0.61428571 0.62142857 0.63       0.63428571 0.64\n",
      " 0.64857143 0.65285714 0.66142857 0.66714286].\n"
     ]
    },
    {
     "data": {
      "image/png": "[encoded data removed]",
      "text/plain": [
       "<Figure size 432x288 with 1 Axes>"
      ]
     },
     "metadata": {
      "needs_background": "light"
     },
     "output_type": "display_data"
    }
   ],
   "source": [
    "exp_V_T_2 = v_t_mat @ prob\n",
    "\n",
    "exp_V_T_2 = np.tile(exp_V_T_2.reshape((1,N)), (N,1))\n",
    "exp_V_T_2[c_leq0] = -1e+4\n",
    "exp_V_T_3 = np.array([exp_V_T_2 for i in prob])\n",
    "\n",
    "exp_V_Tm1 = (e_u_mat + beta * exp_V_T_3)\n",
    "w_tm1 = np.zeros((N, M))\n",
    "v_tm1_mat = np.zeros((N, M))\n",
    "\n",
    "for i in range(N):\n",
    "    v_tm1_mat[i] = exp_V_Tm1[:, i, :].max(axis = 1)\n",
    "    max_id_tm1 = np.argmax(exp_V_Tm1[:, i, :], axis = 1)\n",
    "    w_tm1[i] = w_vec.reshape((N, ))[max_id_tm1]\n",
    "\n",
    "\n",
    "plt.plot(w_vec.reshape((N,)), np.average(w_tm1, axis = 1))\n",
    "print(f\"The policy function at T - 1 is {np.average(w_tm1, axis = 1)}.\")"
   ]
  },
  {
   "cell_type": "code",
   "execution_count": 28,
   "metadata": {},
   "outputs": [
    {
     "name": "stdout",
     "output_type": "stream",
     "text": [
      "The value function at T - 1 is [-9.04605170e+03 -9.04605170e+03 -2.57844662e+01 -2.32898117e+01\n",
      " -2.15647485e+01 -2.02969480e+01 -1.92472555e+01 -1.83832884e+01\n",
      " -1.76199621e+01 -1.69592254e+01 -1.63676173e+01 -1.58378040e+01\n",
      " -1.53503962e+01 -1.48968604e+01 -1.44775471e+01 -1.40932057e+01\n",
      " -1.37316640e+01 -1.33893979e+01 -1.30701574e+01 -1.27680641e+01\n",
      " -1.24798177e+01 -1.22091307e+01 -1.19453323e+01 -1.16970749e+01\n",
      " -1.14573872e+01 -1.12297983e+01 -1.10097626e+01 -1.07981368e+01\n",
      " -1.05949422e+01 -1.03987709e+01 -1.02086226e+01 -1.00241074e+01\n",
      " -9.84684453e+00 -9.67417474e+00 -9.50705728e+00 -9.34513230e+00\n",
      " -9.18724040e+00 -9.03351387e+00 -8.88451622e+00 -8.73889841e+00\n",
      " -8.59691130e+00 -8.45844092e+00 -8.32345998e+00 -8.19223483e+00\n",
      " -8.06322269e+00 -7.93768305e+00 -7.81442571e+00 -7.69375517e+00\n",
      " -7.57591055e+00 -7.46052724e+00 -7.34735227e+00 -7.23618722e+00\n",
      " -7.12794739e+00 -7.02122094e+00 -6.91651649e+00 -6.81357910e+00\n",
      " -6.71279303e+00 -6.61357370e+00 -6.51625290e+00 -6.42035909e+00\n",
      " -6.32655355e+00 -6.23380010e+00 -6.14299296e+00 -6.05331561e+00\n",
      " -5.96492477e+00 -5.87812402e+00 -5.79275615e+00 -5.70856849e+00\n",
      " -5.62552138e+00 -5.54383679e+00 -5.46334723e+00 -5.38380642e+00\n",
      " -5.30559010e+00 -5.22815125e+00 -5.15211932e+00 -5.07679829e+00\n",
      " -5.00286135e+00 -4.92962415e+00 -4.85736305e+00 -4.78593292e+00\n",
      " -4.71565699e+00 -4.64588875e+00 -4.57725955e+00 -4.50934425e+00\n",
      " -4.44235551e+00 -4.37611315e+00 -4.31065350e+00 -4.24588315e+00\n",
      " -4.18183318e+00 -4.11861378e+00 -4.05602930e+00 -3.99415579e+00\n",
      " -3.93290812e+00 -3.87241161e+00 -3.81267568e+00 -3.75325940e+00\n",
      " -3.69466891e+00 -3.63661021e+00 -3.57918305e+00 -3.52235956e+00].\n"
     ]
    },
    {
     "data": {
      "image/png": "[encoded data removed]",
      "text/plain": [
       "<Figure size 432x288 with 1 Axes>"
      ]
     },
     "metadata": {
      "needs_background": "light"
     },
     "output_type": "display_data"
    }
   ],
   "source": [
    "plt.plot(w_vec.reshape((N,)), np.average(v_tm1_mat, axis=1))\n",
    "print(f\"The value function at T - 1 is {np.average(v_tm1_mat, axis = 1)}.\")"
   ]
  },
  {
   "cell_type": "code",
   "execution_count": 29,
   "metadata": {},
   "outputs": [
    {
     "data": {
      "text/plain": [
       "(571693585.5434421, 572827333.4916047)"
      ]
     },
     "execution_count": 29,
     "metadata": {},
     "output_type": "execute_result"
    }
   ],
   "source": [
    "dist_3_t = np.sum(np.sum((v_tm1_mat - v_t_mat) ** 2))\n",
    "dist_3_t, dist_3"
   ]
  },
  {
   "cell_type": "markdown",
   "metadata": {},
   "source": [
    "#### Excercise 20"
   ]
  },
  {
   "cell_type": "code",
   "execution_count": 30,
   "metadata": {},
   "outputs": [
    {
     "data": {
      "text/plain": [
       "[<matplotlib.lines.Line2D at 0x1c99c1ba488>]"
      ]
     },
     "execution_count": 30,
     "metadata": {},
     "output_type": "execute_result"
    },
    {
     "data": {
      "image/png": "[encoded data removed]",
      "text/plain": [
       "<Figure size 432x288 with 1 Axes>"
      ]
     },
     "metadata": {
      "needs_background": "light"
     },
     "output_type": "display_data"
    }
   ],
   "source": [
    "exp_V_Tm1_2 = v_tm1_mat @ prob\n",
    "\n",
    "exp_V_Tm1_2 = np.tile(exp_V_Tm1_2.reshape((1,N)), (N,1))\n",
    "exp_V_Tm1_2[c_leq0] = -1e+4\n",
    "exp_V_Tm1_3 = np.array([exp_V_Tm1_2 for i in prob])\n",
    "\n",
    "exp_V_Tm2 = (e_u_mat + beta * exp_V_Tm1_3)\n",
    "w_tm2 = np.zeros((N, M))\n",
    "v_tm2_mat = np.zeros((N, M))\n",
    "\n",
    "for i in range(N):\n",
    "    v_tm2_mat[i] = exp_V_Tm2[:, i, :].max(axis = 1)\n",
    "    max_id_tm2 = np.argmax(exp_V_Tm2[:, i, :], axis = 1)\n",
    "    w_tm2[i] = w_vec.reshape((N, ))[max_id_tm2]\n",
    "\n",
    "\n",
    "plt.plot(w_vec.reshape((N,)), np.average(w_tm2, axis = 1))"
   ]
  },
  {
   "cell_type": "code",
   "execution_count": 31,
   "metadata": {},
   "outputs": [
    {
     "data": {
      "text/plain": [
       "[<matplotlib.lines.Line2D at 0x1c99c327888>]"
      ]
     },
     "execution_count": 31,
     "metadata": {},
     "output_type": "execute_result"
    },
    {
     "data": {
      "image/png": "[encoded data removed]",
      "text/plain": [
       "<Figure size 432x288 with 1 Axes>"
      ]
     },
     "metadata": {
      "needs_background": "light"
     },
     "output_type": "display_data"
    }
   ],
   "source": [
    "plt.plot(w_vec.reshape((N,)), np.average(v_tm2_mat, axis=1))"
   ]
  },
  {
   "cell_type": "code",
   "execution_count": 32,
   "metadata": {},
   "outputs": [
    {
     "data": {
      "text/plain": [
       "(569714042.9585774, 571693585.5434421, 572827333.4916047)"
      ]
     },
     "execution_count": 32,
     "metadata": {},
     "output_type": "execute_result"
    }
   ],
   "source": [
    "dist_3_tm1 = np.sum(np.sum((v_tm2_mat - v_tm1_mat) ** 2))\n",
    "dist_3_tm1, dist_3_t, dist_3"
   ]
  },
  {
   "cell_type": "markdown",
   "metadata": {},
   "source": [
    "##### The distance is decreaseing as the time goes backward."
   ]
  },
  {
   "cell_type": "markdown",
   "metadata": {},
   "source": [
    "#### Exercise 21"
   ]
  },
  {
   "cell_type": "code",
   "execution_count": 33,
   "metadata": {},
   "outputs": [
    {
     "name": "stdout",
     "output_type": "stream",
     "text": [
      "The distance of the value function is 572827333.4916047.\n",
      "The distance of the value function is 571693585.5434421.\n",
      "The distance of the value function is 569714042.9585774.\n",
      "The distance of the value function is 566333407.9253161.\n",
      "The distance of the value function is 560830305.2856961.\n",
      "The distance of the value function is 552786226.6966596.\n",
      "The distance of the value function is 544284964.9166867.\n",
      "The distance of the value function is 548245792.520656.\n",
      "The distance of the value function is 617577372.2888831.\n",
      "The distance of the value function is 942986127.7911379.\n",
      "The distance of the value function is 2175561670.723496.\n",
      "The distance of the value function is 5263097427.839502.\n",
      "The distance of the value function is 4741723391.521275.\n",
      "The distance of the value function is 32786034.161100917.\n",
      "The distance of the value function is 0.0.\n"
     ]
    },
    {
     "data": {
      "text/plain": [
       "[<matplotlib.lines.Line2D at 0x1c99c474b08>]"
      ]
     },
     "execution_count": 33,
     "metadata": {},
     "output_type": "execute_result"
    },
    {
     "data": {
      "image/png": "[encoded data removed]",
      "text/plain": [
       "<Figure size 432x288 with 1 Axes>"
      ]
     },
     "metadata": {
      "needs_background": "light"
     },
     "output_type": "display_data"
    }
   ],
   "source": [
    "error_3D = 1e-9\n",
    "dist= dist_3_tm1\n",
    "iter_3D = 200\n",
    "\n",
    "V_Tp1 = np.zeros((N, M))\n",
    "iter_time = 1\n",
    "while dist >= error_3D and iter_time <= iter_3D:\n",
    "    exp_V_T = V_Tp1 @ prob\n",
    "    \n",
    "    exp_V_T = np.tile(exp_V_T.reshape((1,N)), (N,1))\n",
    "    exp_V_T[c_leq0] = -1e+4\n",
    "    exp_V_T_3 = np.array([exp_V_T for i in prob])\n",
    "    \n",
    "    exp_V_Tm1 = (e_u_mat + beta * exp_V_T_3)\n",
    "    w_t = np.zeros((N, M))\n",
    "    v_t_mat = np.zeros((N, M))\n",
    "    \n",
    "    for i in range(N):\n",
    "        v_t_mat[i] = exp_V_Tm1[:, i, :].max(axis = 1)\n",
    "        max_id = np.argmax(exp_V_Tm1[:, i, :], axis = 1)\n",
    "        w_t[i] = w_vec.reshape((N, ))[max_id]\n",
    "\n",
    "    \n",
    "    dist= np.sum(np.sum((v_t_mat - V_Tp1) ** 2))\n",
    "    print(f\"The distance of the value function is {dist}.\")\n",
    "    V_Tp1 = v_t_mat\n",
    "    iter_time += 1\n",
    "    \n",
    "plt.plot(w_vec.reshape((N,)), np.average(w_t, axis = 1))"
   ]
  },
  {
   "cell_type": "code",
   "execution_count": 34,
   "metadata": {},
   "outputs": [
    {
     "name": "stdout",
     "output_type": "stream",
     "text": [
      "The iteration time is 16.\n"
     ]
    }
   ],
   "source": [
    "print(f'The iteration time is {iter_time}.')"
   ]
  },
  {
   "cell_type": "markdown",
   "metadata": {},
   "source": [
    "#### Exercise 22"
   ]
  },
  {
   "cell_type": "code",
   "execution_count": 35,
   "metadata": {},
   "outputs": [
    {
     "data": {
      "image/png": "[encoded data removed]",
      "text/plain": [
       "<Figure size 432x288 with 1 Axes>"
      ]
     },
     "metadata": {
      "needs_background": "light"
     },
     "output_type": "display_data"
    }
   ],
   "source": [
    "from mpl_toolkits.mplot3d import Axes3D\n",
    "x,y = np.meshgrid(w_vec.reshape((N,)), err)\n",
    "fig = plt.figure()\n",
    "ax = fig.add_subplot(projection='3d')\n",
    "ax.plot_surface(x.T, y.T, w_t)\n",
    "ax.set_xlabel(\"today's cake\")\n",
    "ax.set_ylabel(\"today's shock today\")\n",
    "ax.set_title(\"tomorrow's cake\")\n",
    "ax.view_init(elev = 40, azim = 60)"
   ]
  }
 ],
 "metadata": {
  "kernelspec": {
   "display_name": "Python 3",
   "language": "python",
   "name": "python3"
  },
  "language_info": {
   "codemirror_mode": {
    "name": "ipython",
    "version": 3
   },
   "file_extension": ".py",
   "mimetype": "text/x-python",
   "name": "python",
   "nbconvert_exporter": "python",
   "pygments_lexer": "ipython3",
   "version": "3.7.5"
  }
 },
 "nbformat": 4,
 "nbformat_minor": 2
}
